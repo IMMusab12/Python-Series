{
 "cells": [
  {
   "cell_type": "markdown",
   "id": "0cc78f4f-bda4-4df6-ac1d-be69ab7d8c90",
   "metadata": {},
   "source": [
    "# Tasks \n",
    "Assignment Information\n",
    "Title\n",
    "\n",
    "For Loops and Conditional Logic\n",
    "\n",
    "Due Date\n",
    "\n",
    "Oct 31, 2025, 11:59 PM\n",
    "Grade\n",
    "\n",
    "not submitted\n",
    "Reference Links\n",
    "\n",
    "Reference Images\n",
    "\n",
    "Description\n",
    "\n",
    "1. Count Digits, Letters, and Special Characters\n",
    "\n",
    "Ask the user to enter a string. Count how many letters, digits, and special characters it has.\n",
    "\n",
    "Hint: use isalpha(), isdigit(), and else.\n",
    "\n",
    "\n",
    "\n",
    "2. Numbers Divisible by 4 or 6 (But Not Both)\n",
    "\n",
    "Input a range (start, end) and print numbers divisible by 4 or 6 — but not both.\n",
    "\n",
    "Hint: use logical operators and, or, not.\n",
    "\n",
    "Example:\n",
    "\n",
    "Input → 1, 30\n",
    "\n",
    "Output → 4, 6, 8, 16, 18, 20, 28, 30\n",
    "\n",
    "\n",
    "\n",
    "3. Count Uppercase and Lowercase Letters\n",
    "\n",
    "Input a sentence and count how many characters are uppercase and lowercase.\n",
    "\n",
    "Hint: use isupper() and islower().\n",
    "\n",
    "\n",
    "\n",
    "4. Replace Vowels with ‘*’\n",
    "\n",
    "Ask for a word and print it again, but every vowel (a, e, i, o, u) should be replaced with *.\n",
    "\n",
    "Example: \"education\" → \"d*c*t*n\"\n",
    "\n",
    "\n",
    "\n",
    "5. Find Sum of Numbers Entered in a String\n",
    "\n",
    "Input a string that contains letters and numbers mixed (like \"a1b2c3\") and find the sum of digits inside it.\n",
    "\n",
    "Example: \"a1b2c3\" → 6\n",
    "\n",
    "\n",
    "\n",
    "6. Count Words Starting with a Vowel\n",
    "\n",
    "Input a sentence and count how many words begin with a vowel.\n",
    "\n",
    "Example: \"An apple is on the table\" → 3\n",
    "\n",
    "\n",
    "\n",
    "7. Display Numbers with Sum of Digits Even\n",
    "\n",
    "Ask for a range (start, end) and print only those numbers whose sum of digits is even.\n",
    "\n",
    "Example: Between 10–30 → prints numbers like 11 (1+1=2), 13 (1+3=4), etc.\n",
    "\n",
    "\n",
    "\n",
    "8. Character Frequency (Sorted)\n",
    "\n",
    "Input a string and print each unique character with its count, sorted alphabetically.\n",
    "\n",
    "Example: \"banana\" →\n",
    "\n",
    "a: 3\n",
    "\n",
    "b: 1\n",
    "\n",
    "n: 2\n",
    "\n",
    "\n",
    "\n",
    "9. Numbers Having 3 as a Digit\n",
    "\n",
    "Ask the user for start and end, and print all numbers that contain the digit 3.\n",
    "\n",
    "Example: 1–40 → 3, 13, 23, 30–39\n",
    "\n",
    "\n",
    "\n",
    "10. Complex Divisibility with Digit Logic\n",
    "\n",
    "Ask the user for two integers: start and end.\n",
    "\n",
    "Using a for loop, print all numbers in that range that satisfy all these conditions:\n",
    "\n",
    "The number is divisible by 4 or 6 (but not both)\n",
    "The sum of its digits is odd\n",
    "The number is not divisible by 9\n",
    "Example:\n",
    "\n",
    "Input → start = 10, end = 100\n",
    "\n",
    "Output → 12, 16, 20, 24, 28, 32, 36, 40, 44, 52, 56, 60, 64, 68, 72, 76, 80, 84, 88, 92, 96, 100\n"
   ]
  },
  {
   "cell_type": "code",
   "execution_count": 1,
   "id": "6fdb16c6-1674-4aed-8dfc-5ccda77929bd",
   "metadata": {},
   "outputs": [
    {
     "name": "stdin",
     "output_type": "stream",
     "text": [
      "Enter A mix Of Alpha,Numbers,Special Characters =  a@1@2 3@4\n"
     ]
    }
   ],
   "source": [
    "# Task : 1 = \n",
    "# 1. Count Digits, Letters, and Special Characters\n",
    "\n",
    "# Ask the user to enter a string. Count how many letters, digits, and special characters it has.\n",
    "\n",
    "# Hint: use isalpha(), isdigit(), and else.\n",
    "\n",
    "user_input = input(\"Enter A mix Of Alpha,Numbers,Special Characters = \")\n",
    "alphabet = 0\n",
    "special_char = 0\n",
    "number = 0\n",
    "for b in user_input:\n",
    "    if b.isalpha():\n",
    "        alphabet+=1\n",
    "    elif b.isdigit():\n",
    "        number+=1\n",
    "    elif b.isprintable():\n",
    "        special_char+=1\n",
    "    else:\n",
    "        print(\"hmm not found\")"
   ]
  },
  {
   "cell_type": "code",
   "execution_count": 2,
   "id": "c52179e9-fd14-4978-b923-6ffa7f02eb38",
   "metadata": {},
   "outputs": [
    {
     "name": "stdout",
     "output_type": "stream",
     "text": [
      "Alphabet In Total is 1\n",
      "The Total Number in Your input Is 4\n",
      "The Total Number of special character Is 4\n"
     ]
    }
   ],
   "source": [
    "print(f\"Alphabet In Total is {alphabet}\")\n",
    "print(f\"The Total Number in Your input Is {number}\")\n",
    "print(f\"The Total Number of special character Is {special_char}\")"
   ]
  },
  {
   "cell_type": "code",
   "execution_count": 4,
   "id": "77a5d407-8992-40c3-85be-1f7ef696bae9",
   "metadata": {},
   "outputs": [
    {
     "name": "stdin",
     "output_type": "stream",
     "text": [
      "Enter an starting Number 1\n",
      "Enter an ending number Number 30\n"
     ]
    },
    {
     "name": "stdout",
     "output_type": "stream",
     "text": [
      "2\n",
      "6\n",
      "10\n",
      "14\n",
      "18\n",
      "22\n",
      "26\n",
      "30\n"
     ]
    }
   ],
   "source": [
    "## Task 2  = \n",
    "\n",
    "# 2. Numbers Divisible by 4 or 6 (But Not Both)\n",
    "\n",
    "# Input a range (start, end) and print numbers divisible by 4 or 6 — but not both.\n",
    "\n",
    "# Hint: use logical operators and, or, not.\n",
    "\n",
    "# Example:\n",
    "\n",
    "# Input → 1, 30\n",
    "\n",
    "# Output → 4, 6, 8, 16, 18, 20, 28, 30\n",
    "\n",
    "\n",
    "a = int(input(\"Enter an starting Number\"))\n",
    "b = int(input(\"Enter an ending number Number\"))\n",
    "flag = True\n",
    "for t in range(a,b+1):\n",
    "    if t%2 == 0 and t%4 == 0:\n",
    "        continue\n",
    "    elif t%4 == 0 or t % 2 == 0:\n",
    "        print(t)\n",
    "    "
   ]
  },
  {
   "cell_type": "code",
   "execution_count": 38,
   "id": "ba78e98e-7406-49d2-895e-40582c90a990",
   "metadata": {},
   "outputs": [
    {
     "name": "stdin",
     "output_type": "stream",
     "text": [
      "Enter Any Sentence Musab @123 Musab %^7\n"
     ]
    },
    {
     "name": "stdout",
     "output_type": "stream",
     "text": [
      "Total number of lower alphabets are = 8\n",
      "Total number of upper alphabets = 2\n"
     ]
    }
   ],
   "source": [
    "# ## Task 3 = \n",
    "# Count Uppercase and Lowercase Letters\n",
    "# Input a sentence and count how many characters are uppercase and lowercase.\n",
    "\n",
    "# Hint: use isupper() and islower().\n",
    "# Count Uppercase and Lowercase Letters\n",
    "# Input a sentence and count how many characters are uppercase and lowercase.\n",
    "\n",
    "# Hint: use isupper() and islower().\n",
    "\n",
    "sentence = input(\"Enter Any Sentence\")\n",
    "lower = 0\n",
    "upper = 0\n",
    "for d in sentence:\n",
    "    if d.islower():\n",
    "        lower+=1\n",
    "    elif d.isupper():\n",
    "        upper+=1\n",
    "print(f\"Total number of lower alphabets are = {lower}\")\n",
    "print(f\"Total number of upper alphabets = {upper}\")"
   ]
  },
  {
   "cell_type": "code",
   "execution_count": 48,
   "id": "b16d3bf1-3aed-4ede-9e8f-085bda8492b9",
   "metadata": {},
   "outputs": [
    {
     "name": "stdin",
     "output_type": "stream",
     "text": [
      "Enter a sentence :  Education\n"
     ]
    },
    {
     "name": "stdout",
     "output_type": "stream",
     "text": [
      "Your final input is *d*c*t**n\n"
     ]
    }
   ],
   "source": [
    "# Task 4 = \n",
    "# 4. Replace Vowels with ‘*’\n",
    "\n",
    "# Ask for a word and print it again, but every vowel (a, e, i, o, u) should be replaced with *.\n",
    "\n",
    "# Example: \"education\" → \"d*c*t*n\"\n",
    "\n",
    "user_input = input(\"Enter a sentence : \")\n",
    "for a in user_input:\n",
    "    if a == \"a\" or a == \"A\":\n",
    "        user_input = user_input.replace(a,\"*\")\n",
    "    if a == \"e\" or a == \"E\":\n",
    "        user_input = user_input.replace(a,\"*\")\n",
    "    if a == \"i\" or a == \"I\":\n",
    "        user_input = user_input.replace(a,\"*\")\n",
    "    if a == \"o\" or a == \"O\":\n",
    "        user_input = user_input.replace(a,\"*\")\n",
    "    if a == \"u\" or a == \"U\":\n",
    "        user_input = user_input.replace(a,\"*\")\n",
    "print(f\"Your final input is {user_input}\")"
   ]
  },
  {
   "cell_type": "code",
   "execution_count": 7,
   "id": "16517ec2-e0ff-4a71-a091-533fb15fa68c",
   "metadata": {},
   "outputs": [
    {
     "name": "stdin",
     "output_type": "stream",
     "text": [
      "Enter any string with numbers a1b2c3\n"
     ]
    },
    {
     "name": "stdout",
     "output_type": "stream",
     "text": [
      "a1b2c3 --> 6\n"
     ]
    }
   ],
   "source": [
    "## Task 5 = \n",
    "# 5. Find Sum of Numbers Entered in a String\n",
    "\n",
    "# Input a string that contains letters and numbers mixed (like \"a1b2c3\") and find the sum of digits inside it.\n",
    "\n",
    "# Example: \"a1b2c3\" → 6\n",
    "user_input = input(\"Enter any string with numbers\")\n",
    "sum_1 = 0\n",
    "new = 0\n",
    "for a in user_input:\n",
    "    if a.isdigit():\n",
    "        sum_1+=int(a)\n",
    "print(f\"{user_input} --> {sum_1}\")"
   ]
  },
  {
   "cell_type": "code",
   "execution_count": 30,
   "id": "b552f251-af39-4b13-b943-7fc71ac583f8",
   "metadata": {},
   "outputs": [
    {
     "name": "stdin",
     "output_type": "stream",
     "text": [
      "Enter any sentence:  An Apple is on The table\n"
     ]
    },
    {
     "name": "stdout",
     "output_type": "stream",
     "text": [
      "4 words start with a vowel.\n"
     ]
    }
   ],
   "source": [
    "## Task 6 =\n",
    "# Count Words Starting with a Vowel\n",
    "\n",
    "# Input a sentence and count how many words begin with a vowel.\n",
    "usr = input(\"Enter any sentence: \").split()\n",
    "vowels = ('a', 'e', 'i', 'o', 'u')\n",
    "count = 0\n",
    "\n",
    "for a in usr:\n",
    "    if a[0].lower() in vowels:\n",
    "        count += 1\n",
    "\n",
    "print(f\"{count} words start with a vowel.\")\n"
   ]
  },
  {
   "cell_type": "code",
   "execution_count": 28,
   "id": "32931ce1-aeb4-45b8-873e-9bdd0978e971",
   "metadata": {},
   "outputs": [
    {
     "name": "stdin",
     "output_type": "stream",
     "text": [
      "Enter Starting Value: 10\n",
      "Enter Ending Value: 30\n"
     ]
    }
   ],
   "source": [
    "## Task 7 = \n",
    "# 7. Display Numbers with Sum of Digits Even\n",
    "\n",
    "# Ask for a range (start, end) and print only those numbers whose sum of digits is even.\n",
    "\n",
    "# Example: Between 10–30 → prints numbers like 11 (1+1=2), 13 (1+3=4), etc.\n",
    "a = eval(input(\"Enter Starting Value:\"))\n",
    "b = eval(input(\"Enter Ending Value:\"))\n",
    "count = 0\n",
    "lst = 0\n",
    "for c in range(a,b+1):\n",
    "    if a >= 10:\n",
    "        b = str(c)\n",
    "        d = list(b)\n",
    "        l = int(d[0]) + int(d[1])\n",
    "        if l%2 == 0 :\n",
    "            print(c)\n",
    "        break\n",
    "else:\n",
    "        print(\"Please Enter A correct Num\")"
   ]
  },
  {
   "cell_type": "code",
   "execution_count": 63,
   "id": "5a17f14c-430a-47c6-8491-33bc59588a47",
   "metadata": {},
   "outputs": [
    {
     "name": "stdin",
     "output_type": "stream",
     "text": [
      "Enter a str:  b a n a n a\n"
     ]
    },
    {
     "name": "stdout",
     "output_type": "stream",
     "text": [
      "b = 1\n",
      "a = 3\n",
      "n = 2\n"
     ]
    }
   ],
   "source": [
    "# Task 8 = \n",
    "# 8. Character Frequency (Sorted)\n",
    "\n",
    "# Input a string and print each unique character with its count, sorted alphabetically.\n",
    "\n",
    "# Example: \"banana\" →\n",
    "\n",
    "# a: 3\n",
    "\n",
    "# b: 1\n",
    "\n",
    "# n: 2\n",
    "st = input(\"Enter a str: \")\n",
    "st1 = list(st)\n",
    "done = []\n",
    "for a in st1:\n",
    "    if not a in done: \n",
    "        if not a == \" \":\n",
    "            print(f\"{a} = {st1.count(a)}\")\n",
    "    done.append(a)"
   ]
  },
  {
   "cell_type": "code",
   "execution_count": 6,
   "id": "1f54a935-e8f7-4b4e-a9fe-8c4b224f9dae",
   "metadata": {},
   "outputs": [
    {
     "name": "stdin",
     "output_type": "stream",
     "text": [
      "Enter Starting:  10\n",
      "Enter Ending:  30\n"
     ]
    },
    {
     "name": "stdout",
     "output_type": "stream",
     "text": [
      "13\n",
      "23\n",
      "30\n"
     ]
    }
   ],
   "source": [
    "### TASK #9 \n",
    "starting = eval(input(\"Enter Starting: \"))\n",
    "ending = eval(input(\"Enter Ending: \"))\n",
    "for g in range(starting,ending+1):\n",
    "    b = str(g)\n",
    "    c = list(b)\n",
    "    if \"3\" in c:\n",
    "        print(g)"
   ]
  },
  {
   "cell_type": "code",
   "execution_count": 65,
   "id": "60b90014-3d24-46b5-92cd-889ad83603fc",
   "metadata": {},
   "outputs": [
    {
     "name": "stdin",
     "output_type": "stream",
     "text": [
      "Enter an starting Number 10\n",
      "Enter an ending Number 100\n"
     ]
    },
    {
     "name": "stdout",
     "output_type": "stream",
     "text": [
      "16 30 32 52 56 76 78 92 100 "
     ]
    }
   ],
   "source": [
    "## Task 10 =\n",
    "# 10. Complex Divisibility with Digit Logic\n",
    "\n",
    "# Ask the user for two integers: start and end.\n",
    "\n",
    "# Using a for loop, print all numbers in that range that satisfy all these conditions:\n",
    "\n",
    "# The number is divisible by 4 or 6 (but not both)\n",
    "# The sum of its digits is odd\n",
    "# The number is not divisible by 9\n",
    "# Example:\n",
    "\n",
    "# Input → start = 10, end = 100\n",
    "\n",
    "# Output → 12, 16, 20, 24, 28, 32, 36, 40, 44, 52, 56, 60, 64, 68, 72, 76, 80, 84, 88, 92, 96, 100\n",
    "a = int(input(\"Enter an starting Number\"))\n",
    "b = int(input(\"Enter an ending Number\"))\n",
    "for t in range(a,b+1):\n",
    "    if t%6 == 0 and t%4 == 0:\n",
    "        continue\n",
    "    if t % 9 == 0:\n",
    "        continue\n",
    "    if t%4 == 0 or t%6 == 0:\n",
    "            b = str(t)\n",
    "            d = list(b)\n",
    "            l = int(d[0]) + int(d[1])\n",
    "            if l%2 == 1 :\n",
    "                print(t, end= \" \")\n",
    "    "
   ]
  },
  {
   "cell_type": "code",
   "execution_count": null,
   "id": "4e7f1994-dfcf-49f6-8a9b-7a7f8e584c8f",
   "metadata": {},
   "outputs": [],
   "source": []
  }
 ],
 "metadata": {
  "kernelspec": {
   "display_name": "Python 3 (ipykernel)",
   "language": "python",
   "name": "python3"
  },
  "language_info": {
   "codemirror_mode": {
    "name": "ipython",
    "version": 3
   },
   "file_extension": ".py",
   "mimetype": "text/x-python",
   "name": "python",
   "nbconvert_exporter": "python",
   "pygments_lexer": "ipython3",
   "version": "3.13.5"
  }
 },
 "nbformat": 4,
 "nbformat_minor": 5
}
